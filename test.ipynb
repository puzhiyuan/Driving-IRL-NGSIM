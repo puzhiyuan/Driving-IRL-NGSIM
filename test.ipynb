{
 "cells": [
  {
   "cell_type": "code",
   "execution_count": 1,
   "metadata": {},
   "outputs": [],
   "source": [
    "import os\n",
    "os.environ['KMP_DUPLICATE_LIB_OK']='TRUE'\n",
    "\n",
    "import warnings\n",
    "# 忽略所有的 featurewarnings\n",
    "warnings.filterwarnings(\"ignore\", category=FutureWarning)"
   ]
  },
  {
   "cell_type": "code",
   "execution_count": 2,
   "metadata": {},
   "outputs": [],
   "source": [
    "import numpy as np\n",
    "da = np.array([1, 2, 3, 4, 5])\n"
   ]
  },
  {
   "cell_type": "code",
   "execution_count": null,
   "metadata": {},
   "outputs": [
    {
     "name": "stdout",
     "output_type": "stream",
     "text": [
      "obs shape: (30,)\n",
      "obs: [ 1.          0.14527775  0.72986764  0.33257233  0.          1.\n",
      "  0.01721126 -0.56536923 -0.07322268  0.          1.          0.03030313\n",
      " -0.76199582  0.01158161  0.          1.         -0.03120311 -0.19869262\n",
      "  0.01078876  0.          1.          0.0590715  -0.36219854 -0.0366486\n",
      "  0.          1.          0.17417229 -0.73787026 -0.08131293  0.        ]\n"
     ]
    },
    {
     "name": "stderr",
     "output_type": "stream",
     "text": [
      "d:\\anaconda3\\envs\\py\\lib\\site-packages\\gym\\wrappers\\record_video.py:75: UserWarning: \u001b[33mWARN: Overwriting existing videos at c:\\Users\\puzhiyuan\\Desktop\\workspace\\project\\Driving-IRL-NGSIM\\videos folder (try specifying a different `video_folder` for the `RecordVideo` wrapper if this is not desired)\u001b[0m\n",
      "  logger.warn(\n",
      "d:\\anaconda3\\envs\\py\\lib\\site-packages\\gym\\wrappers\\monitoring\\video_recorder.py:59: UserWarning: \u001b[33mWARN: Disabling video recorder because environment <NGSIMEnv instance> was not initialized with any compatible video mode between `rgb_array` and `rgb_array_list`\u001b[0m\n",
      "  logger.warn(\n"
     ]
    },
    {
     "name": "stdout",
     "output_type": "stream",
     "text": [
      "info: (array([ 1.00000000e+00,  6.83184179e-01,  7.27406042e-01,  2.08677810e-01,\n",
      "       -2.15741943e-06,  1.00000000e+00,  5.72747553e-03, -7.38075825e-01,\n",
      "        8.18575284e-02,  1.27240414e-03,  1.00000000e+00,  2.50921286e-02,\n",
      "       -3.83273493e-01, -2.44978880e-02,  8.87881682e-03,  1.00000000e+00,\n",
      "       -6.33229997e-02, -5.45846899e-01,  4.74734760e-03, -5.39393505e-03,\n",
      "        1.00000000e+00, -1.02592380e-01, -1.40752333e-01,  1.06550796e-04,\n",
      "        2.16852605e-03,  1.00000000e+00,  1.31774421e-01, -3.35827607e-01,\n",
      "       -6.01430545e-02, -1.26102733e-02]), -25315.352360847286, False, False, {'velocity': 8.347112416753342, 'crashed': False, 'offroad': False, 'action': (13.347168099868098, 8.302893255850332, 5), 'time': 49})\n",
      "info: (array([ 1.00000000e+00,  9.78257548e-01,  7.28313289e-01,  8.47832894e-02,\n",
      "        8.59941524e-07,  1.00000000e+00, -4.97107413e-02, -3.24215174e-01,\n",
      "        1.33039350e-01, -6.73616910e-04,  1.00000000e+00,  6.12186659e-02,\n",
      "       -5.48475260e-01,  1.24141383e-01, -1.05316430e-02,  1.00000000e+00,\n",
      "       -7.04127988e-02, -1.30673063e-01,  9.89694355e-03,  3.62113793e-04,\n",
      "        1.00000000e+00, -7.35787354e-02,  6.68915223e-02,  1.42884087e-02,\n",
      "        7.35748638e-04,  1.00000000e+00,  1.04627924e-01, -3.58073832e-01,\n",
      "        1.25126214e-01, -8.77142966e-03]), -8129.652170362324, False, False, {'velocity': 3.3913315776521067, 'crashed': False, 'offroad': False, 'action': (13.302152548965397, 3.347112416753342, 5), 'time': 98})\n",
      "info: (array([ 1.00000000e+00,  1.00000000e+00,  7.38314240e-01,  7.25738324e-04,\n",
      "        4.73460582e-05,  1.00000000e+00, -5.39991602e-02, -1.38788067e-01,\n",
      "        2.47725115e-03, -1.18218537e-05,  1.00000000e+00, -5.61432578e-02,\n",
      "        6.07189939e-02,  2.56336935e-03,  2.68331067e-05,  1.00000000e+00,\n",
      "        3.30203938e-01, -3.37640466e-01,  2.54354615e-01, -1.58077462e-04,\n",
      "        1.00000000e+00,  5.58173853e-01, -4.94823623e-01,  3.31605746e-01,\n",
      "        1.21228447e-02,  1.00000000e+00,  5.83625427e-01, -3.16321193e-01,\n",
      "        3.05081692e-01,  9.56804313e-03]), -229.94805464164097, False, False, {'velocity': 0.029091243057646394, 'crashed': False, 'offroad': False, 'action': (13.318743483644912, 0.0, 5), 'time': 147})\n"
     ]
    }
   ],
   "source": [
    "from stable_baselines3 import PPO\n",
    "from gym.wrappers import RecordVideo\n",
    "import torch\n",
    "envs = torch.load(\"./envs/env_320\", weights_only=False)\n",
    "obs = envs.reset()\n",
    "print(f\"obs shape: {obs.shape}\")\n",
    "print(f\"obs: {obs}\")\n",
    "\n",
    "envs = RecordVideo(envs, \"./videos\", episode_trigger=lambda e: True)\n",
    "\n",
    "model = PPO.load(\"./models/PPO_NGSIM_320_1800\")\n",
    "envs.reset()\n",
    "for _ in range(1000):\n",
    "    actions, _ = model.predict(obs)\n",
    "    info = envs.step(actions)\n",
    "    print(f\"info: {info}\")\n",
    "    # print(f\"actions: {actions}\")\n",
    "    # print(f\"rewards: {rewards}\")\n",
    "    # print(f\"dones: {dones}\")\n",
    "    # print(f\"info: {info}\")\n",
    "    envs.render()\n",
    "envs.close()"
   ]
  },
  {
   "cell_type": "code",
   "execution_count": 4,
   "metadata": {},
   "outputs": [],
   "source": [
    "# for _ in range(1000+1):\n",
    "#     actions, _ = model.predict(obs)\n",
    "#     obs, rewards, dones, info = envs.step(actions)\n",
    "#     print(f\"rewards: {rewards}\")\n",
    "#     print(f\"info: {info}\")\n",
    "#     print(f\"actions: {actions}\")\n",
    "#     envs.render(mode=\"human\")\n",
    "#     if dones:\n",
    "#         obs = envs.reset()\n",
    "#         break\n",
    "# envs.close()"
   ]
  }
 ],
 "metadata": {
  "kernelspec": {
   "display_name": "py",
   "language": "python",
   "name": "python3"
  },
  "language_info": {
   "codemirror_mode": {
    "name": "ipython",
    "version": 3
   },
   "file_extension": ".py",
   "mimetype": "text/x-python",
   "name": "python",
   "nbconvert_exporter": "python",
   "pygments_lexer": "ipython3",
   "version": "3.9.21"
  }
 },
 "nbformat": 4,
 "nbformat_minor": 2
}
